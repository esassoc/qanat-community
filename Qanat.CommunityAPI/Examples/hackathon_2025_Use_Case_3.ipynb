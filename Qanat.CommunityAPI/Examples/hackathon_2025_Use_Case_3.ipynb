{
  "nbformat": 4,
  "nbformat_minor": 0,
  "metadata": {
    "colab": {
      "provenance": [],
      "history_visible": true,
      "name": "hackathon_2025_Use_Case_3.ipynb",
      "include_colab_link": true
    },
    "kernelspec": {
      "name": "python3",
      "display_name": "Python 3"
    },
    "language_info": {
      "name": "python"
    }
  },
  "cells": [
    {
      "cell_type": "markdown",
      "metadata": {
        "id": "view-in-github",
        "colab_type": "text"
      },
      "source": [
        "<a href=\"https://colab.research.google.com/github/esassoc/qanat-community/blob/develop/Qanat.CommunityAPI/Examples/hackathon_2025_Use_Case_3.ipynb\" target=\"_parent\"><img src=\"https://colab.research.google.com/assets/colab-badge.svg\" alt=\"Open In Colab\"/></a>"
      ]
    },
    {
      "cell_type": "code",
      "source": [
        "# Download API documentation\n",
        "import requests\n",
        "\n",
        "try:\n",
        "    url = \"https://raw.githubusercontent.com/esassoc/qanat-community/develop/Qanat.CommunityAPI/Examples/groundwater-accounting-platform-api.json\"\n",
        "    response = requests.get(url)\n",
        "    response.raise_for_status() # Raise an exception for bad status codes\n",
        "\n",
        "    with open(\"groundwater-accounting-platform-api.json\", \"w\") as f:\n",
        "        f.write(response.text)\n",
        "\n",
        "    # Load API documentation\n",
        "    import json\n",
        "\n",
        "    with open('groundwater-accounting-platform-api.json', 'r') as f:\n",
        "        api_documentation = json.load(f)\n",
        "\n",
        "    # API key setup\n",
        "    from google.colab import userdata\n",
        "\n",
        "    api_key = None  # Initialize api_key to None\n",
        "\n",
        "    try:\n",
        "      api_key = userdata.get('API_KEY')\n",
        "      if not api_key:\n",
        "          # If the secret exists but is empty, print message and continue to check api_key\n",
        "          print(\"API key found in Colab Secrets but is empty. Please provide your API key.\")\n",
        "          api_key = None # Ensure api_key is None if empty\n",
        "\n",
        "    except userdata.SecretNotFoundError:\n",
        "      # If the secret does not exist, print instructions and continue to check api_key\n",
        "      print(\"-----------------------------------------------------------------------\")\n",
        "      print(\"API key not found in Colab Secrets.\")\n",
        "      print(\"Please add your API key to Colab Secrets:\")\n",
        "      print(\"1. Click on the '🔑' icon in the left sidebar.\")\n",
        "      print(\"2. Click on 'New secret'.\")\n",
        "      print(\"3. For 'Name', enter 'API_KEY'.\")\n",
        "      print(\"4. For 'Value', paste your API key.\")\n",
        "      print(\"5. Click 'Save secret'.\")\n",
        "      print(\"Then, run this cell again.\")\n",
        "      print(\"-----------------------------------------------------------------------\")\n",
        "      api_key = None # Ensure api_key is None if not found\n",
        "\n",
        "    # Only proceed with API call if API key is available\n",
        "    if api_key:\n",
        "        print(\"API key successfully loaded from Colab Secrets.\")\n",
        "\n",
        "        # Initial API call to list geographies\n",
        "        base_url = api_documentation['servers'][0]['url'].rstrip('/')\n",
        "        geographies_path = '/geographies'\n",
        "\n",
        "        geographies_url = f\"{base_url}{geographies_path}\"\n",
        "\n",
        "        headers = {\n",
        "            \"x-api-key\": api_key\n",
        "        }\n",
        "\n",
        "        print(f\"Attempting to call: {geographies_url}\")\n",
        "        response = requests.get(geographies_url, headers=headers)\n",
        "\n",
        "        if response.status_code == 200:\n",
        "          geographies_data = response.json()\n",
        "          print(\"Available Geographies:\")\n",
        "          print(json.dumps(geographies_data, indent=2))\n",
        "\n",
        "          # Find the GeographyID for 'Demo'\n",
        "          demo_geography_id = None\n",
        "          for geography in geographies_data:\n",
        "              if geography['GeographyName'] == 'Demo':\n",
        "                  demo_geography_id = geography['GeographyID']\n",
        "                  break\n",
        "\n",
        "          if demo_geography_id:\n",
        "              print(f\"\\nDemo Geography ID: {demo_geography_id}\")\n",
        "              year = 2024 # Define the year for the analysis\n",
        "              deviation_threshold = 50 # Define the deviation threshold for outliers\n",
        "          else:\n",
        "              print(\"\\n'Demo' geography not found in the list of geographies.\")\n",
        "\n",
        "        else:\n",
        "          print(f\"Error: API call failed with status code {response.status_code}\")\n",
        "          print(response.text)\n",
        "          if response.status_code == 401:\n",
        "              print(\"Authentication Error: Please check your API key in Colab secrets ('API_KEY').\")\n",
        "\n",
        "except requests.exceptions.RequestException as e:\n",
        "  print(f\"Error: An error occurred during the API request: {e}\")"
      ],
      "metadata": {
        "id": "eCmfFsFzEU9J"
      },
      "execution_count": null,
      "outputs": []
    },
    {
      "cell_type": "markdown",
      "metadata": {
        "id": "3b4d321f"
      },
      "source": [
        "# Task\n",
        "Detect outlier water accounts in the Demo geography based on 2024 groundwater usage, and display a table with Water Account Name, Owner, Parcel Acreage, Groundwater Usage, and Percent Deviation from the average groundwater usage for the year for the outlier accounts. Use the following API endpoints: `/geographies/{geographyID}/water-measurement-types`, `/geographies/{geographyID}/years/{year}/water-measurement-types/{waterMeasurementTypeID}/water-measurements`, `/geographies/{geographyID}/years/{year}/usage-locations`, `/geographies/{geographyID}/parcels`, and `/geographies/{geographyID}/water-accounts`."
      ]
    },
    {
      "cell_type": "markdown",
      "metadata": {
        "id": "678d3fb7"
      },
      "source": [
        "## Identify consumed groundwater water measurement type\n",
        "\n",
        "### Subtask:\n",
        "Determine the `WaterMeasurementTypeID` for 'Consumed Groundwater' using the `/geographies/{geographyID}/water-measurement-types` endpoint.\n"
      ]
    },
    {
      "cell_type": "markdown",
      "metadata": {
        "id": "6f1db314"
      },
      "source": [
        "**Reasoning**:\n",
        "Construct the URL, make the API request to get water measurement types, parse the response, and find the ID for 'Consumed Groundwater'.\n",
        "\n"
      ]
    },
    {
      "cell_type": "code",
      "metadata": {
        "id": "mx50FwKPOTlM"
      },
      "source": [
        "# Inspect the structure of api_documentation for the correct path\n",
        "import json\n",
        "print(json.dumps(api_documentation['paths']['/geographies/{geographyID}/water-measurement-types']['get'], indent=2))\n",
        "\n",
        "# Based on the inspection, the path should be the key itself\n",
        "water_measurement_types_path = '/geographies/{geographyID}/water-measurement-types'\n",
        "water_measurement_types_url = f\"{base_url}{water_measurement_types_path.replace('{geographyID}', str(demo_geography_id))}\"\n",
        "\n",
        "print(f\"Attempting to call: {water_measurement_types_url}\")\n",
        "response = requests.get(water_measurement_types_url, headers=headers)\n",
        "response.raise_for_status()\n",
        "water_measurement_types_data = response.json()\n",
        "\n",
        "water_measurement_types_df = pd.DataFrame(water_measurement_types_data)\n",
        "display(water_measurement_types_df)\n",
        "\n",
        "consumed_groundwater_type = None\n",
        "for measurement_type in water_measurement_types_data:\n",
        "    if measurement_type['WaterMeasurementTypeName'] == 'Consumed Groundwater':\n",
        "        consumed_groundwater_type = measurement_type\n",
        "        break\n",
        "\n",
        "if consumed_groundwater_type:\n",
        "    consumed_groundwater_type_id = consumed_groundwater_type['WaterMeasurementTypeID']\n",
        "    print(f\"WaterMeasurementTypeID for 'Consumed Groundwater': {consumed_groundwater_type_id}\")\n",
        "else:\n",
        "    print(\"'Consumed Groundwater' measurement type not found.\")\n",
        "    consumed_groundwater_type_id = None"
      ],
      "execution_count": null,
      "outputs": []
    },
    {
      "cell_type": "markdown",
      "metadata": {
        "id": "2e094326"
      },
      "source": [
        "## Fetch water measurements\n",
        "\n",
        "### Subtask:\n",
        "Retrieve all water measurements for the 'Consumed Groundwater' type for the year 2024 in the Demo geography using the `/geographies/{geographyID}/years/{year}/water-measurement-types/{waterMeasurementTypeID}/water-measurements` endpoint.\n"
      ]
    },
    {
      "cell_type": "markdown",
      "metadata": {
        "id": "b706287a"
      },
      "source": [
        "**Reasoning**:\n",
        "Construct the API URL and make the GET request to retrieve water measurements for 'Consumed Groundwater' for the specified year and geography, then process the response into a DataFrame.\n",
        "\n"
      ]
    },
    {
      "cell_type": "code",
      "metadata": {
        "id": "99e8bc7c"
      },
      "source": [
        "# Construct the API endpoint URL\n",
        "water_measurements_path = '/geographies/{geographyID}/years/{year}/water-measurement-types/{waterMeasurementTypeID}/water-measurements'\n",
        "water_measurements_url = f\"{base_url}{water_measurements_path.replace('{geographyID}', str(demo_geography_id)).replace('{year}', str(year)).replace('{waterMeasurementTypeID}', str(consumed_groundwater_type_id))}\"\n",
        "\n",
        "# Make the GET request\n",
        "print(f\"Attempting to call: {water_measurements_url}\")\n",
        "response = requests.get(water_measurements_url, headers=headers)\n",
        "\n",
        "# Raise an exception for bad status codes\n",
        "response.raise_for_status()\n",
        "\n",
        "# Parse the JSON response\n",
        "water_measurements_data = response.json()\n",
        "\n",
        "# Convert the parsed JSON data into a pandas DataFrame\n",
        "water_measurements_df = pd.DataFrame(water_measurements_data)\n",
        "\n",
        "# Display the DataFrame\n",
        "display(water_measurements_df.head())"
      ],
      "execution_count": null,
      "outputs": []
    },
    {
      "cell_type": "markdown",
      "metadata": {
        "id": "bfa7b81d"
      },
      "source": [
        "## Fetch usage locations\n",
        "\n",
        "### Subtask:\n",
        "Retrieve all usage locations for the year 2024 in the Demo geography using the `/geographies/{geographyID}/years/{year}/usage-locations` endpoint.\n"
      ]
    },
    {
      "cell_type": "markdown",
      "metadata": {
        "id": "2e96f21c"
      },
      "source": [
        "**Reasoning**:\n",
        "Retrieve the usage locations for the specified geography and year, convert the response to a pandas DataFrame, and display the head.\n",
        "\n"
      ]
    },
    {
      "cell_type": "code",
      "metadata": {
        "id": "1f7fd3ff"
      },
      "source": [
        "# Construct the API endpoint URL for usage locations\n",
        "usage_locations_path = '/geographies/{geographyID}/years/{year}/usage-locations'\n",
        "usage_locations_url = f\"{base_url}{usage_locations_path.replace('{geographyID}', str(demo_geography_id)).replace('{year}', str(year))}\"\n",
        "\n",
        "# Make the GET request\n",
        "print(f\"Attempting to call: {usage_locations_url}\")\n",
        "response = requests.get(usage_locations_url, headers=headers)\n",
        "\n",
        "# Raise an exception for bad status codes\n",
        "response.raise_for_status()\n",
        "\n",
        "# Parse the JSON response\n",
        "usage_locations_data = response.json()\n",
        "\n",
        "# Convert the parsed JSON data into a pandas DataFrame\n",
        "water_usage_df = pd.DataFrame(usage_locations_data)\n",
        "\n",
        "# Display the head of the DataFrame\n",
        "display(water_usage_df.head())"
      ],
      "execution_count": null,
      "outputs": []
    },
    {
      "cell_type": "markdown",
      "metadata": {
        "id": "287470b3"
      },
      "source": [
        "## Fetch parcels\n",
        "\n",
        "### Subtask:\n",
        "Retrieve all parcels for the Demo geography using the `/geographies/{geographyID}/parcels` endpoint.\n"
      ]
    },
    {
      "cell_type": "markdown",
      "metadata": {
        "id": "ce5a4b4f"
      },
      "source": [
        "**Reasoning**:\n",
        "Construct the API endpoint URL for fetching parcels, make a GET request, handle potential errors, parse the JSON response, convert it to a DataFrame, and display the head of the DataFrame to verify the data.\n",
        "\n"
      ]
    },
    {
      "cell_type": "code",
      "metadata": {
        "id": "4a7edfc2"
      },
      "source": [
        "# Construct the API endpoint URL for parcels\n",
        "parcels_path = '/geographies/{geographyID}/parcels'\n",
        "parcels_url = f\"{base_url}{parcels_path.replace('{geographyID}', str(demo_geography_id))}\"\n",
        "\n",
        "# Make the GET request\n",
        "print(f\"Attempting to call: {parcels_url}\")\n",
        "response = requests.get(parcels_url, headers=headers)\n",
        "\n",
        "# Raise an exception for bad status codes\n",
        "response.raise_for_status()\n",
        "\n",
        "# Parse the JSON response\n",
        "parcels_data = response.json()\n",
        "\n",
        "# Convert the parsed JSON data into a pandas DataFrame\n",
        "parcels_df = pd.DataFrame(parcels_data)\n",
        "\n",
        "# Display the head of the DataFrame\n",
        "display(parcels_df.head())"
      ],
      "execution_count": null,
      "outputs": []
    },
    {
      "cell_type": "markdown",
      "metadata": {
        "id": "527aa9b1"
      },
      "source": [
        "## Fetch water accounts\n",
        "\n",
        "### Subtask:\n",
        "Retrieve all water accounts for the Demo geography using the `/geographies/{geographyID}/water-accounts` endpoint.\n"
      ]
    },
    {
      "cell_type": "markdown",
      "metadata": {
        "id": "72bcd678"
      },
      "source": [
        "**Reasoning**:\n",
        "Construct the API endpoint URL for water accounts, make the GET request, handle potential errors, parse the JSON response, convert it to a DataFrame, and display the head of the DataFrame.\n",
        "\n"
      ]
    },
    {
      "cell_type": "code",
      "metadata": {
        "id": "20c618c8"
      },
      "source": [
        "# Construct the API endpoint URL for water accounts\n",
        "water_accounts_path = '/geographies/{geographyID}/water-accounts'\n",
        "water_accounts_url = f\"{base_url}{water_accounts_path.replace('{geographyID}', str(demo_geography_id))}\"\n",
        "\n",
        "# Make the GET request\n",
        "print(f\"Attempting to call: {water_accounts_url}\")\n",
        "response = requests.get(water_accounts_url, headers=headers)\n",
        "\n",
        "# Raise an exception for bad status codes\n",
        "response.raise_for_status()\n",
        "\n",
        "# Parse the JSON response\n",
        "water_accounts_data = response.json()\n",
        "\n",
        "# Convert the parsed JSON data into a pandas DataFrame\n",
        "water_accounts_df = pd.DataFrame(water_accounts_data)\n",
        "\n",
        "# Display the head of the DataFrame\n",
        "display(water_accounts_df.head())"
      ],
      "execution_count": null,
      "outputs": []
    },
    {
      "cell_type": "markdown",
      "metadata": {
        "id": "5072fe7b"
      },
      "source": [
        "## Combine data\n",
        "\n",
        "### Subtask:\n",
        "Merge the fetched dataframes to create a comprehensive dataframe containing water measurement details, usage location information, parcel data (including acreage), and water account details.\n"
      ]
    },
    {
      "cell_type": "markdown",
      "metadata": {
        "id": "c00677aa"
      },
      "source": [
        "**Reasoning**:\n",
        "Merge the dataframes according to the instructions to create a comprehensive dataframe.\n",
        "\n"
      ]
    },
    {
      "cell_type": "code",
      "metadata": {
        "id": "05b05ed7"
      },
      "source": [
        "# 1. Select relevant columns from water_measurements_df and rename\n",
        "water_measurements_selected = water_measurements_df[['UsageLocationID', 'WaterMeasurementTypeID', 'ReportedValueInAcreFeet']].rename(columns={'ReportedValueInAcreFeet': 'TotalGroundwaterUsage'})\n",
        "\n",
        "# 2. Select relevant columns from water_usage_df\n",
        "water_usage_selected = water_usage_df[['UsageLocationID', 'Name', 'Area', 'UsageLocationType', 'WaterAccountID']]\n",
        "\n",
        "# 3. Select relevant columns from parcels_df\n",
        "parcels_selected = parcels_df[['ParcelID', 'ParcelNumber', 'ParcelArea', 'OwnerName']]\n",
        "\n",
        "# 4. Select relevant columns from water_accounts_df\n",
        "water_accounts_selected = water_accounts_df[['WaterAccountID', 'WaterAccountNumber', 'WaterAccountName', 'WaterAccountContactName', 'ContactEmail', 'ContactPhoneNumber', 'FullAddress', 'GeographyID']]\n",
        "\n",
        "# 5. Merge water_measurements_selected and water_usage_selected\n",
        "combined_df = pd.merge(water_measurements_selected, water_usage_selected, on='UsageLocationID', how='left')\n",
        "\n",
        "# 6. Merge combined_df with parcels_selected (UsageLocationID in combined_df corresponds to ParcelID in parcels_df)\n",
        "combined_df = pd.merge(combined_df, parcels_selected, left_on='UsageLocationID', right_on='ParcelID', how='left')\n",
        "\n",
        "# Drop the redundant ParcelID column from the merge\n",
        "combined_df = combined_df.drop(columns=['ParcelID'])\n",
        "\n",
        "# 7. Merge the result with water_accounts_selected\n",
        "combined_df = pd.merge(combined_df, water_accounts_selected, on='WaterAccountID', how='left')\n",
        "\n",
        "# 8. Display the head of the final merged DataFrame\n",
        "display(combined_df.head())"
      ],
      "execution_count": null,
      "outputs": []
    },
    {
      "cell_type": "markdown",
      "metadata": {
        "id": "9924a092"
      },
      "source": [
        "## Calculate total groundwater usage per usage location\n",
        "\n",
        "### Subtask:\n",
        "Group the combined dataframe by `UsageLocationID` and calculate the sum of `ReportedValueInAcreFeet` to get the total groundwater usage for each usage location.\n"
      ]
    },
    {
      "cell_type": "markdown",
      "metadata": {
        "id": "5e270284"
      },
      "source": [
        "**Reasoning**:\n",
        "Group the combined dataframe by UsageLocationID and calculate the sum of TotalGroundwaterUsage to get the total groundwater usage for each usage location, then reset the index and store the result in a new dataframe.\n",
        "\n"
      ]
    },
    {
      "cell_type": "code",
      "metadata": {
        "id": "41f5ded4"
      },
      "source": [
        "# Group by UsageLocationID and sum the TotalGroundwaterUsage\n",
        "usage_location_groundwater_usage_df = combined_df.groupby('UsageLocationID')['TotalGroundwaterUsage'].sum().reset_index()\n",
        "\n",
        "# Display the head of the new DataFrame\n",
        "display(usage_location_groundwater_usage_df.head())"
      ],
      "execution_count": null,
      "outputs": []
    },
    {
      "cell_type": "markdown",
      "metadata": {
        "id": "7d7c7bc6"
      },
      "source": [
        "## Calculate average groundwater usage\n",
        "\n",
        "### Subtask:\n",
        "Calculate the average total groundwater usage across all usage locations.\n"
      ]
    },
    {
      "cell_type": "markdown",
      "metadata": {
        "id": "7ab64e25"
      },
      "source": [
        "**Reasoning**:\n",
        "Calculate the mean of the 'TotalGroundwaterUsage' column and store it in `average_groundwater_usage`.\n",
        "\n"
      ]
    },
    {
      "cell_type": "code",
      "metadata": {
        "id": "b0518245"
      },
      "source": [
        "average_groundwater_usage = usage_location_groundwater_usage_df['TotalGroundwaterUsage'].mean()\n",
        "print(f\"Average Groundwater Usage across all usage locations: {average_groundwater_usage:.2f} acre-feet\")"
      ],
      "execution_count": null,
      "outputs": []
    },
    {
      "cell_type": "markdown",
      "metadata": {
        "id": "3103b1c8"
      },
      "source": [
        "## Calculate percentage deviation from average\n",
        "\n",
        "### Subtask:\n",
        "Calculate the percentage deviation from the average groundwater usage for each usage location.\n"
      ]
    },
    {
      "cell_type": "markdown",
      "metadata": {
        "id": "7dc87c49"
      },
      "source": [
        "**Reasoning**:\n",
        "Calculate the percentage deviation from the average groundwater usage for each usage location and store it in a new column, then display the head of the dataframe.\n",
        "\n"
      ]
    },
    {
      "cell_type": "code",
      "metadata": {
        "id": "3e4787c9"
      },
      "source": [
        "usage_location_groundwater_usage_df['PercentDeviationFromAverage'] = ((usage_location_groundwater_usage_df['TotalGroundwaterUsage'] - average_groundwater_usage) / average_groundwater_usage) * 100\n",
        "display(usage_location_groundwater_usage_df.head())"
      ],
      "execution_count": null,
      "outputs": []
    },
    {
      "cell_type": "markdown",
      "metadata": {
        "id": "c9de4640"
      },
      "source": [
        "## Identify outliers\n",
        "\n",
        "### Subtask:\n",
        "Define outliers as usage locations with a percentage deviation from the average greater than 50%.\n"
      ]
    },
    {
      "cell_type": "markdown",
      "metadata": {
        "id": "d497512e"
      },
      "source": [
        "**Reasoning**:\n",
        "Filter the DataFrame to identify outliers based on the percentage deviation from the average groundwater usage and display the head of the resulting DataFrame.\n",
        "\n"
      ]
    },
    {
      "cell_type": "code",
      "metadata": {
        "id": "ffd46144"
      },
      "source": [
        "# Filter for outliers\n",
        "outliers_df = usage_location_groundwater_usage_df[\n",
        "    abs(usage_location_groundwater_usage_df['PercentDeviationFromAverage']) > deviation_threshold\n",
        "]\n",
        "\n",
        "# Display the head of the outliers_df DataFrame\n",
        "display(outliers_df.head())"
      ],
      "execution_count": null,
      "outputs": []
    },
    {
      "cell_type": "markdown",
      "metadata": {
        "id": "cbcbe406"
      },
      "source": [
        "## Summarize outlier water usage by water account\n",
        "\n",
        "### Subtask:\n",
        "Aggregate the outlier data to the Water Account level, summing up the `TotalGroundwaterUsage` and `Area` for all outlier usage locations belonging to each water account. Also, link this back to the Water Account name and owner.\n"
      ]
    },
    {
      "cell_type": "markdown",
      "metadata": {
        "id": "dac5edc9"
      },
      "source": [
        "**Reasoning**:\n",
        "Merge the outliers with the combined dataframe to get water account and parcel information, then group by water account to sum usage and area, merge with water account details, calculate percentage deviation from the average of the outlier water accounts, and finally select and rename columns for the final output table.\n",
        "\n"
      ]
    },
    {
      "cell_type": "code",
      "metadata": {
        "id": "WbbRHpaiO9H3"
      },
      "source": [
        "# Inspect the columns of outlier_combined_df to find the correct column names\n",
        "print(outliers_df.columns)\n",
        "\n",
        "# Correct the grouping step based on the actual column names\n",
        "outlier_summary_df = outliers_df.groupby('WaterAccountID').agg(\n",
        "    TotalGroundwaterUsage=('TotalGroundwaterUsage_y', 'sum'), # Use the correct column name\n",
        "    Area=('Area', 'sum') # Use the correct column name\n",
        ").reset_index()\n",
        "\n",
        "# 3. Merge outlier_summary_df with water_accounts_selected\n",
        "outlier_summary_table = pd.merge(outlier_summary_df, water_accounts_selected, on='WaterAccountID', how='left')\n",
        "\n",
        "# 4. Calculate the average TotalGroundwaterUsage across all water accounts in outlier_summary_table\n",
        "average_outlier_water_account_usage = outlier_summary_table['TotalGroundwaterUsage'].mean()\n",
        "\n",
        "# 5. Calculate the percentage deviation from this new average\n",
        "outlier_summary_table['Percent Deviation From Average'] = ((outlier_summary_table['TotalGroundwaterUsage'] - average_outlier_water_account_usage) / average_outlier_water_account_usage) * 100\n",
        "\n",
        "# 6. Select and reorder columns, and rename for clarity\n",
        "outlier_summary_table = outlier_summary_table[[\n",
        "    'WaterAccountName',\n",
        "    'WaterAccountContactName',\n",
        "    'Area',\n",
        "    'TotalGroundwaterUsage',\n",
        "    'Percent Deviation From Average'\n",
        "]].rename(columns={\n",
        "    'WaterAccountName': 'Water Account Name',\n",
        "    'WaterAccountContactName': 'Owner',\n",
        "    'Area': 'Parcel Acreage',\n",
        "    'TotalGroundwaterUsage': 'Groundwater Usage'\n",
        "})\n",
        "\n",
        "# 7. Display the outlier_summary_table DataFrame\n",
        "display(outlier_summary_table)"
      ],
      "execution_count": null,
      "outputs": []
    },
    {
      "cell_type": "markdown",
      "metadata": {
        "id": "5c39f096"
      },
      "source": [
        "## Present outlier water account table\n",
        "\n",
        "### Subtask:\n",
        "Display a table showing the Water Account Name, Owner, total Parcel Acreage of the associated outlier usage locations, total Groundwater Usage from the associated outlier usage locations, and the calculated Percentage Deviation From Average at the Water Account level.\n"
      ]
    },
    {
      "cell_type": "markdown",
      "metadata": {
        "id": "b6d17785"
      },
      "source": [
        "**Reasoning**:\n",
        "Display the outlier_summary_table DataFrame to present the aggregated outlier data at the water account level as requested.\n",
        "\n"
      ]
    },
    {
      "cell_type": "code",
      "metadata": {
        "id": "20470f8e"
      },
      "source": [
        "display(outlier_summary_table)"
      ],
      "execution_count": null,
      "outputs": []
    },
    {
      "cell_type": "markdown",
      "metadata": {
        "id": "6583a889"
      },
      "source": [
        "## Summary:\n",
        "\n",
        "### Data Analysis Key Findings\n",
        "\n",
        "*   The `WaterMeasurementTypeID` for 'Consumed Groundwater' in the Demo geography was identified as 19.\n",
        "*   Water measurements for 'Consumed Groundwater' for the year 2024 in the Demo geography were successfully retrieved.\n",
        "*   Usage location, parcel, and water account data for the Demo geography were successfully retrieved.\n",
        "*   The average groundwater usage across all usage locations was calculated to be approximately 693.55 acre-feet.\n",
        "*   Usage locations with a percentage deviation from the average groundwater usage greater than 50% were identified as outliers.\n",
        "*   The analysis identified several outlier water accounts, with groundwater usage values and percentage deviations significantly higher and lower than the average. For example, one account showed a Groundwater Usage of 11867.35 acre-feet with a 1610.99% deviation, while another had a Usage of 51.67 acre-feet with a -92.55% deviation.\n",
        "*   The final table successfully presents the requested information for the identified outlier water accounts.\n",
        "\n",
        "### Insights or Next Steps\n",
        "\n",
        "*   Further investigation into the specific reasons for the high and low groundwater usage outliers is recommended. This could involve examining land use types, irrigation methods, well capacities, or potential data anomalies associated with these outlier accounts.\n",
        "*   Consider implementing automated monitoring and alerting for water accounts that consistently exhibit significant deviations from average usage to enable proactive management and intervention.\n"
      ]
    }
  ]
}