{
  "nbformat": 4,
  "nbformat_minor": 0,
  "metadata": {
    "colab": {
      "provenance": [],
      "history_visible": true,
      "include_colab_link": true
    },
    "kernelspec": {
      "name": "python3",
      "display_name": "Python 3"
    },
    "language_info": {
      "name": "python"
    }
  },
  "cells": [
    {
      "cell_type": "markdown",
      "metadata": {
        "id": "view-in-github",
        "colab_type": "text"
      },
      "source": [
        "<a href=\"https://colab.research.google.com/github/esassoc/qanat-community/blob/develop/Qanat.CommunityAPI/Examples/Hackathon_2025.ipynb\" target=\"_parent\"><img src=\"https://colab.research.google.com/assets/colab-badge.svg\" alt=\"Open In Colab\"/></a>"
      ]
    },
    {
      "cell_type": "code",
      "source": [
        "# Download API documentation\n",
        "import requests\n",
        "\n",
        "try:\n",
        "    url = \"https://raw.githubusercontent.com/esassoc/qanat-community/develop/Qanat.CommunityAPI/Examples/groundwater-accounting-platform-api.json\"\n",
        "    response = requests.get(url)\n",
        "    response.raise_for_status() # Raise an exception for bad status codes\n",
        "\n",
        "    with open(\"groundwater-accounting-platform-api.json\", \"w\") as f:\n",
        "        f.write(response.text)\n",
        "\n",
        "    # Load API documentation\n",
        "    import json\n",
        "\n",
        "    with open('groundwater-accounting-platform-api.json', 'r') as f:\n",
        "        api_documentation = json.load(f)\n",
        "\n",
        "    # API key setup\n",
        "    from google.colab import userdata\n",
        "\n",
        "    api_key = None  # Initialize api_key to None\n",
        "\n",
        "    try:\n",
        "      api_key = userdata.get('API_KEY')\n",
        "      if not api_key:\n",
        "          # If the secret exists but is empty, print message and continue to check api_key\n",
        "          print(\"API key found in Colab Secrets but is empty. Please provide your API key.\")\n",
        "          api_key = None # Ensure api_key is None if empty\n",
        "\n",
        "    except userdata.SecretNotFoundError:\n",
        "      # If the secret does not exist, print instructions and continue to check api_key\n",
        "      print(\"-----------------------------------------------------------------------\")\n",
        "      print(\"API key not found in Colab Secrets.\")\n",
        "      print(\"Please add your API key to Colab Secrets:\")\n",
        "      print(\"1. Click on the '🔑' icon in the left sidebar.\")\n",
        "      print(\"2. Click on 'New secret'.\")\n",
        "      print(\"3. For 'Name', enter 'API_KEY'.\")\n",
        "      print(\"4. For 'Value', paste your API key.\")\n",
        "      print(\"5. Click 'Save secret'.\")\n",
        "      print(\"Then, run this cell again.\")\n",
        "      print(\"-----------------------------------------------------------------------\")\n",
        "      api_key = None # Ensure api_key is None if not found\n",
        "\n",
        "    # Only proceed with API call if API key is available\n",
        "    if api_key:\n",
        "        print(\"API key successfully loaded from Colab Secrets.\")\n",
        "\n",
        "        # Initial API call to list geographies\n",
        "        base_url = api_documentation['servers'][0]['url'].rstrip('/')\n",
        "        geographies_path = '/geographies'\n",
        "\n",
        "        geographies_url = f\"{base_url}{geographies_path}\"\n",
        "\n",
        "        headers = {\n",
        "            \"x-api-key\": api_key\n",
        "        }\n",
        "\n",
        "        print(f\"Attempting to call: {geographies_url}\")\n",
        "        response = requests.get(geographies_url, headers=headers)\n",
        "\n",
        "        if response.status_code == 200:\n",
        "          geographies_data = response.json()\n",
        "          print(\"Available Geographies:\")\n",
        "          print(json.dumps(geographies_data, indent=2))\n",
        "        else:\n",
        "          print(f\"Error: API call failed with status code {response.status_code}\")\n",
        "          print(response.text)\n",
        "          if response.status_code == 401:\n",
        "              print(\"Authentication Error: Please check your API key in Colab secrets ('API_KEY').\")\n",
        "\n",
        "except requests.exceptions.RequestException as e:\n",
        "  print(f\"Error: An error occurred during the API request: {e}\")"
      ],
      "metadata": {
        "id": "eCmfFsFzEU9J"
      },
      "execution_count": null,
      "outputs": []
    }
  ]
}