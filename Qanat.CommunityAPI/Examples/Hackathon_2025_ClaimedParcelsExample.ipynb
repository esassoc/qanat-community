{
  "nbformat": 4,
  "nbformat_minor": 0,
  "metadata": {
    "colab": {
      "provenance": [],
      "history_visible": true,
      "include_colab_link": true
    },
    "kernelspec": {
      "name": "python3",
      "display_name": "Python 3"
    },
    "language_info": {
      "name": "python"
    }
  },
  "cells": [
    {
      "cell_type": "markdown",
      "metadata": {
        "id": "view-in-github",
        "colab_type": "text"
      },
      "source": [
        "<a href=\"https://colab.research.google.com/github/esassoc/qanat-community/blob/develop/Qanat.CommunityAPI/Examples/Hackathon_2025_ClaimedParcelsExample.ipynb\" target=\"_parent\"><img src=\"https://colab.research.google.com/assets/colab-badge.svg\" alt=\"Open In Colab\"/></a>"
      ]
    },
    {
      "cell_type": "code",
      "source": [
        "# Download API documentation\n",
        "import requests\n",
        "\n",
        "try:\n",
        "    url = \"https://raw.githubusercontent.com/esassoc/qanat-community/develop/Qanat.CommunityAPI/Examples/groundwater-accounting-platform-api.json\"\n",
        "    response = requests.get(url)\n",
        "    response.raise_for_status() # Raise an exception for bad status codes\n",
        "\n",
        "    with open(\"groundwater-accounting-platform-api.json\", \"w\") as f:\n",
        "        f.write(response.text)\n",
        "\n",
        "    # Load API documentation\n",
        "    import json\n",
        "\n",
        "    with open('groundwater-accounting-platform-api.json', 'r') as f:\n",
        "        api_documentation = json.load(f)\n",
        "\n",
        "    # API key setup\n",
        "    from google.colab import userdata\n",
        "\n",
        "    api_key = None  # Initialize api_key to None\n",
        "\n",
        "    try:\n",
        "      api_key = userdata.get('API_KEY')\n",
        "      if not api_key:\n",
        "          # If the secret exists but is empty, print message and continue to check api_key\n",
        "          print(\"API key found in Colab Secrets but is empty. Please provide your API key.\")\n",
        "          api_key = None # Ensure api_key is None if empty\n",
        "\n",
        "    except userdata.SecretNotFoundError:\n",
        "      # If the secret does not exist, print instructions and continue to check api_key\n",
        "      print(\"-----------------------------------------------------------------------\")\n",
        "      print(\"API key not found in Colab Secrets.\")\n",
        "      print(\"Please add your API key to Colab Secrets:\")\n",
        "      print(\"1. Click on the '🔑' icon in the left sidebar.\")\n",
        "      print(\"2. Click on 'New secret'.\")\n",
        "      print(\"3. For 'Name', enter 'API_KEY'.\")\n",
        "      print(\"4. For 'Value', paste your API key.\")\n",
        "      print(\"5. Click 'Save secret'.\")\n",
        "      print(\"Then, run this cell again.\")\n",
        "      print(\"-----------------------------------------------------------------------\")\n",
        "      api_key = None # Ensure api_key is None if not found\n",
        "\n",
        "    # Only proceed with API call if API key is available\n",
        "    if api_key:\n",
        "        print(\"API key successfully loaded from Colab Secrets.\")\n",
        "\n",
        "        # Initial API call to list geographies\n",
        "        base_url = api_documentation['servers'][0]['url'].rstrip('/')\n",
        "        geographies_path = '/geographies'\n",
        "\n",
        "        geographies_url = f\"{base_url}{geographies_path}\"\n",
        "\n",
        "        headers = {\n",
        "            \"x-api-key\": api_key\n",
        "        }\n",
        "\n",
        "        print(f\"Attempting to call: {geographies_url}\")\n",
        "        response = requests.get(geographies_url, headers=headers)\n",
        "\n",
        "        if response.status_code == 200:\n",
        "          geographies_data = response.json()\n",
        "          print(\"Available Geographies:\")\n",
        "          print(json.dumps(geographies_data, indent=2))\n",
        "        else:\n",
        "          print(f\"Error: API call failed with status code {response.status_code}\")\n",
        "          print(response.text)\n",
        "          if response.status_code == 401:\n",
        "              print(\"Authentication Error: Please check your API key in Colab secrets ('API_KEY').\")\n",
        "\n",
        "except requests.exceptions.RequestException as e:\n",
        "  print(f\"Error: An error occurred during the API request: {e}\")"
      ],
      "metadata": {
        "id": "eCmfFsFzEU9J",
        "colab": {
          "base_uri": "https://localhost:8080/"
        },
        "outputId": "5d212f04-2069-4ebf-c9ab-c1d75da79223"
      },
      "execution_count": 58,
      "outputs": [
        {
          "output_type": "stream",
          "name": "stdout",
          "text": [
            "API key successfully loaded from Colab Secrets.\n",
            "Attempting to call: http://api-qa.groundwateraccounting.org/geographies\n",
            "Available Geographies:\n",
            "[\n",
            "  {\n",
            "    \"GeographyID\": 1,\n",
            "    \"GeographyName\": \"MIUGSA\",\n",
            "    \"GeographyDisplayName\": \"Merced Irrigation-Urban Groundwater Sustainability Agency\"\n",
            "  },\n",
            "  {\n",
            "    \"GeographyID\": 2,\n",
            "    \"GeographyName\": \"Pajaro\",\n",
            "    \"GeographyDisplayName\": \"Pajaro Valley Water Management Agency\"\n",
            "  },\n",
            "  {\n",
            "    \"GeographyID\": 3,\n",
            "    \"GeographyName\": \"RRB\",\n",
            "    \"GeographyDisplayName\": \"Rosedale-Rio Bravo Water Storage District\"\n",
            "  },\n",
            "  {\n",
            "    \"GeographyID\": 4,\n",
            "    \"GeographyName\": \"Yolo\",\n",
            "    \"GeographyDisplayName\": \"Yolo County Flood Control & Water Conservation District\"\n",
            "  },\n",
            "  {\n",
            "    \"GeographyID\": 5,\n",
            "    \"GeographyName\": \"Demo\",\n",
            "    \"GeographyDisplayName\": \"Demo Geography\"\n",
            "  },\n",
            "  {\n",
            "    \"GeographyID\": 6,\n",
            "    \"GeographyName\": \"MSGSA\",\n",
            "    \"GeographyDisplayName\": \"Merced Subbasin Groundwater Sustainability Agency\"\n",
            "  },\n",
            "  {\n",
            "    \"GeographyID\": 7,\n",
            "    \"GeographyName\": \"ETSGSA\",\n",
            "    \"GeographyDisplayName\": \"East Turlock Subbasin GSA\"\n",
            "  },\n",
            "  {\n",
            "    \"GeographyID\": 8,\n",
            "    \"GeographyName\": \"SCNY\",\n",
            "    \"GeographyDisplayName\": \"South Colusa/North Yolo Working Group\"\n",
            "  },\n",
            "  {\n",
            "    \"GeographyID\": 9,\n",
            "    \"GeographyName\": \"PRAGA\",\n",
            "    \"GeographyDisplayName\": \"Paso Robles Area Groundwater Authority\"\n",
            "  },\n",
            "  {\n",
            "    \"GeographyID\": 10,\n",
            "    \"GeographyName\": \"GMD3\",\n",
            "    \"GeographyDisplayName\": \"SW Kansas GMD3\"\n",
            "  }\n",
            "]\n"
          ]
        }
      ]
    },
    {
      "cell_type": "markdown",
      "metadata": {
        "id": "733479d2"
      },
      "source": [
        "# Task\n",
        "Calculate the percentage of parcels with claimed water accounts across all geographies, using `WaterAccountPINLastUsed` as an indicator for claimed accounts."
      ]
    },
    {
      "cell_type": "markdown",
      "metadata": {
        "id": "3b1d80bc"
      },
      "source": [
        "## Get all geographies\n",
        "\n",
        "### Subtask:\n",
        "Retrieve the list of all available geographies from the API.\n"
      ]
    },
    {
      "cell_type": "markdown",
      "metadata": {
        "id": "7bc84938"
      },
      "source": [
        "**Reasoning**:\n",
        "Construct the URL, make the API request to get all geographies, and handle the response based on the status code.\n",
        "\n"
      ]
    },
    {
      "cell_type": "code",
      "metadata": {
        "colab": {
          "base_uri": "https://localhost:8080/"
        },
        "id": "545df9cd",
        "outputId": "fd212c6a-c213-43fc-d548-8592b9af0eee"
      },
      "source": [
        "geographies_url = f\"{base_url}{geographies_path}\"\n",
        "\n",
        "response = requests.get(geographies_url, headers=headers)\n",
        "\n",
        "if response.status_code == 200:\n",
        "  all_geographies_data = response.json()\n",
        "  print(\"Successfully retrieved all geographies.\")\n",
        "else:\n",
        "  print(f\"Error: API call for all geographies failed with status code {response.status_code}\")\n",
        "  print(response.text)"
      ],
      "execution_count": 59,
      "outputs": [
        {
          "output_type": "stream",
          "name": "stdout",
          "text": [
            "Successfully retrieved all geographies.\n"
          ]
        }
      ]
    },
    {
      "cell_type": "markdown",
      "metadata": {
        "id": "cd34828e"
      },
      "source": [
        "## Iterate through geographies\n",
        "\n",
        "### Subtask:\n",
        "For each geography, retrieve all water accounts and all parcels.\n"
      ]
    },
    {
      "cell_type": "markdown",
      "metadata": {
        "id": "09826462"
      },
      "source": [
        "**Reasoning**:\n",
        "Iterate through the geographies and retrieve all water accounts and parcels for each, storing them in dictionaries.\n",
        "\n"
      ]
    },
    {
      "cell_type": "code",
      "metadata": {
        "colab": {
          "base_uri": "https://localhost:8080/"
        },
        "id": "8a75f2ee",
        "outputId": "1cb32a70-2deb-4202-8aaa-f0030c86fce2"
      },
      "source": [
        "all_geography_water_accounts = {}\n",
        "all_geography_parcels = {}\n",
        "\n",
        "for geography in all_geographies_data:\n",
        "    geography_id = geography['GeographyID']\n",
        "    geography_name = geography['GeographyName']\n",
        "    print(f\"Retrieving data for Geography: {geography_name} (ID: {geography_id})\")\n",
        "\n",
        "    # Retrieve water accounts for the current geography\n",
        "    water_accounts_path = api_documentation['paths']['/geographies/{geographyID}/water-accounts']['get']['parameters'][0]['in'] # This path needs to be adjusted based on the actual structure\n",
        "    # Corrected path to get water accounts endpoint\n",
        "    water_accounts_endpoint = api_documentation['paths']['/geographies/{geographyID}/water-accounts']['get']['summary']\n",
        "    water_accounts_url = f\"{base_url}/geographies/{geography_id}/water-accounts\"\n",
        "\n",
        "    print(f\"  Attempting to call: {water_accounts_url}\")\n",
        "    response = requests.get(water_accounts_url, headers=headers)\n",
        "\n",
        "    if response.status_code == 200:\n",
        "        water_accounts_data = response.json()\n",
        "        all_geography_water_accounts[geography_id] = water_accounts_data\n",
        "        print(f\"  Successfully retrieved {len(water_accounts_data)} water accounts for {geography_name}\")\n",
        "    else:\n",
        "        print(f\"  Error retrieving water accounts for {geography_name}: Status code {response.status_code}\")\n",
        "        print(response.text)\n",
        "        all_geography_water_accounts[geography_id] = [] # Store empty list if retrieval fails\n",
        "\n",
        "    # Retrieve parcels for the current geography\n",
        "    parcels_endpoint = api_documentation['paths']['/geographies/{geographyID}/parcels']['get']['summary']\n",
        "    parcels_url = f\"{base_url}/geographies/{geography_id}/parcels\"\n",
        "\n",
        "    print(f\"  Attempting to call: {parcels_url}\")\n",
        "    response = requests.get(parcels_url, headers=headers)\n",
        "\n",
        "    if response.status_code == 200:\n",
        "        parcels_data = response.json()\n",
        "        all_geography_parcels[geography_id] = parcels_data\n",
        "        print(f\"  Successfully retrieved {len(parcels_data)} parcels for {geography_name}\")\n",
        "    else:\n",
        "        print(f\"  Error retrieving parcels for {geography_name}: Status code {response.status_code}\")\n",
        "        print(response.text)\n",
        "        all_geography_parcels[geography_id] = [] # Store empty list if retrieval fails\n",
        "\n",
        "print(\"Finished retrieving water accounts and parcels for all geographies.\")"
      ],
      "execution_count": 60,
      "outputs": [
        {
          "output_type": "stream",
          "name": "stdout",
          "text": [
            "Retrieving data for Geography: MIUGSA (ID: 1)\n",
            "  Attempting to call: http://api-qa.groundwateraccounting.org/geographies/1/water-accounts\n",
            "  Successfully retrieved 2706 water accounts for MIUGSA\n",
            "  Attempting to call: http://api-qa.groundwateraccounting.org/geographies/1/parcels\n",
            "  Successfully retrieved 90272 parcels for MIUGSA\n",
            "Retrieving data for Geography: Pajaro (ID: 2)\n",
            "  Attempting to call: http://api-qa.groundwateraccounting.org/geographies/2/water-accounts\n",
            "  Successfully retrieved 0 water accounts for Pajaro\n",
            "  Attempting to call: http://api-qa.groundwateraccounting.org/geographies/2/parcels\n",
            "  Successfully retrieved 0 parcels for Pajaro\n",
            "Retrieving data for Geography: RRB (ID: 3)\n",
            "  Attempting to call: http://api-qa.groundwateraccounting.org/geographies/3/water-accounts\n",
            "  Successfully retrieved 124 water accounts for RRB\n",
            "  Attempting to call: http://api-qa.groundwateraccounting.org/geographies/3/parcels\n",
            "  Successfully retrieved 1492 parcels for RRB\n",
            "Retrieving data for Geography: Yolo (ID: 4)\n",
            "  Attempting to call: http://api-qa.groundwateraccounting.org/geographies/4/water-accounts\n",
            "  Successfully retrieved 2317 water accounts for Yolo\n",
            "  Attempting to call: http://api-qa.groundwateraccounting.org/geographies/4/parcels\n",
            "  Successfully retrieved 7731 parcels for Yolo\n",
            "Retrieving data for Geography: Demo (ID: 5)\n",
            "  Attempting to call: http://api-qa.groundwateraccounting.org/geographies/5/water-accounts\n",
            "  Successfully retrieved 52 water accounts for Demo\n",
            "  Attempting to call: http://api-qa.groundwateraccounting.org/geographies/5/parcels\n",
            "  Successfully retrieved 126 parcels for Demo\n",
            "Retrieving data for Geography: MSGSA (ID: 6)\n",
            "  Attempting to call: http://api-qa.groundwateraccounting.org/geographies/6/water-accounts\n",
            "  Successfully retrieved 981 water accounts for MSGSA\n",
            "  Attempting to call: http://api-qa.groundwateraccounting.org/geographies/6/parcels\n",
            "  Successfully retrieved 2752 parcels for MSGSA\n",
            "Retrieving data for Geography: ETSGSA (ID: 7)\n",
            "  Attempting to call: http://api-qa.groundwateraccounting.org/geographies/7/water-accounts\n",
            "  Successfully retrieved 478 water accounts for ETSGSA\n",
            "  Attempting to call: http://api-qa.groundwateraccounting.org/geographies/7/parcels\n",
            "  Successfully retrieved 1824 parcels for ETSGSA\n",
            "Retrieving data for Geography: SCNY (ID: 8)\n",
            "  Attempting to call: http://api-qa.groundwateraccounting.org/geographies/8/water-accounts\n",
            "  Successfully retrieved 8149 water accounts for SCNY\n",
            "  Attempting to call: http://api-qa.groundwateraccounting.org/geographies/8/parcels\n",
            "  Successfully retrieved 14215 parcels for SCNY\n",
            "Retrieving data for Geography: PRAGA (ID: 9)\n",
            "  Attempting to call: http://api-qa.groundwateraccounting.org/geographies/9/water-accounts\n",
            "  Successfully retrieved 1154 water accounts for PRAGA\n",
            "  Attempting to call: http://api-qa.groundwateraccounting.org/geographies/9/parcels\n",
            "  Successfully retrieved 1819 parcels for PRAGA\n",
            "Retrieving data for Geography: GMD3 (ID: 10)\n",
            "  Attempting to call: http://api-qa.groundwateraccounting.org/geographies/10/water-accounts\n",
            "  Successfully retrieved 904 water accounts for GMD3\n",
            "  Attempting to call: http://api-qa.groundwateraccounting.org/geographies/10/parcels\n",
            "  Successfully retrieved 4306 parcels for GMD3\n",
            "Finished retrieving water accounts and parcels for all geographies.\n"
          ]
        }
      ]
    },
    {
      "cell_type": "markdown",
      "metadata": {
        "id": "9bab36cd"
      },
      "source": [
        "## Identify claimed water accounts\n",
        "\n",
        "### Subtask:\n",
        "For each geography, filter the water accounts to identify those that have been \"claimed\" based on `WaterAccountPINLastUsed`.\n"
      ]
    },
    {
      "cell_type": "markdown",
      "metadata": {
        "id": "9085cbfe"
      },
      "source": [
        "**Reasoning**:\n",
        "Initialize a dictionary to store claimed water accounts by geography and then iterate through each geography and its water accounts to identify and store the claimed ones based on the 'WaterAccountPINLastUsed' field.\n",
        "\n"
      ]
    },
    {
      "cell_type": "code",
      "metadata": {
        "colab": {
          "base_uri": "https://localhost:8080/"
        },
        "id": "463fa39c",
        "outputId": "02fe579b-9dd6-4baf-ae15-36b0f2efe439"
      },
      "source": [
        "claimed_water_accounts_by_geography = {}\n",
        "\n",
        "for geography_id, water_accounts_list in all_geography_water_accounts.items():\n",
        "    claimed_accounts_list = []\n",
        "    for account in water_accounts_list:\n",
        "        if account.get('WaterAccountPINLastUsed') is not None:\n",
        "            claimed_accounts_list.append(account)\n",
        "    claimed_water_accounts_by_geography[geography_id] = claimed_accounts_list\n",
        "\n",
        "print(\"Finished identifying claimed water accounts for all geographies.\")"
      ],
      "execution_count": 61,
      "outputs": [
        {
          "output_type": "stream",
          "name": "stdout",
          "text": [
            "Finished identifying claimed water accounts for all geographies.\n"
          ]
        }
      ]
    },
    {
      "cell_type": "markdown",
      "metadata": {
        "id": "8a256c1c"
      },
      "source": [
        "## Link parcels to claimed accounts\n",
        "\n",
        "### Subtask:\n",
        "For each geography, link parcels to water accounts to determine which parcels are associated with the claimed accounts.\n"
      ]
    },
    {
      "cell_type": "markdown",
      "metadata": {
        "id": "0c7235dd"
      },
      "source": [
        "**Reasoning**:\n",
        "Iterate through each geography, create a set of claimed water account IDs, and then iterate through the parcels in that geography to find those linked to claimed accounts.\n",
        "\n"
      ]
    },
    {
      "cell_type": "code",
      "metadata": {
        "colab": {
          "base_uri": "https://localhost:8080/"
        },
        "id": "02f7fff6",
        "outputId": "f1432c03-d46e-4f14-8100-d4c504d61a85"
      },
      "source": [
        "parcels_linked_to_claimed_accounts_by_geography = {}\n",
        "\n",
        "for geography_id, claimed_water_accounts in claimed_water_accounts_by_geography.items():\n",
        "    # Create a set of claimed water account IDs for efficient lookup\n",
        "    claimed_account_ids = {account['WaterAccountID'] for account in claimed_water_accounts}\n",
        "\n",
        "    linked_parcels_list = []\n",
        "    # Get all parcels for the current geography\n",
        "    all_parcels = all_geography_parcels.get(geography_id, []) # Use .get to handle potential missing geography_id\n",
        "\n",
        "    for parcel in all_parcels:\n",
        "        # Check if the parcel has a WaterAccountID and if it's in the set of claimed account IDs\n",
        "        if 'WaterAccountID' in parcel and parcel['WaterAccountID'] in claimed_account_ids:\n",
        "            linked_parcels_list.append(parcel)\n",
        "\n",
        "    parcels_linked_to_claimed_accounts_by_geography[geography_id] = linked_parcels_list\n",
        "\n",
        "print(\"Finished linking parcels to claimed water accounts for each geography.\")"
      ],
      "execution_count": 62,
      "outputs": [
        {
          "output_type": "stream",
          "name": "stdout",
          "text": [
            "Finished linking parcels to claimed water accounts for each geography.\n"
          ]
        }
      ]
    },
    {
      "cell_type": "markdown",
      "metadata": {
        "id": "a51584d3"
      },
      "source": [
        "## Calculate percentages\n",
        "\n",
        "### Subtask:\n",
        "For each geography, calculate the percentage of parcels linked to claimed accounts out of the total parcels in that geography.\n"
      ]
    },
    {
      "cell_type": "markdown",
      "metadata": {
        "id": "4e193235"
      },
      "source": [
        "**Reasoning**:\n",
        "Calculate the percentage of parcels linked to claimed accounts for each geography and store the results in a dictionary.\n",
        "\n"
      ]
    },
    {
      "cell_type": "code",
      "metadata": {
        "colab": {
          "base_uri": "https://localhost:8080/"
        },
        "id": "fdf05983",
        "outputId": "f5239548-2b3e-4713-80c6-b83099e66f7d"
      },
      "source": [
        "percentage_parcels_linked_to_claimed_accounts_by_geography = {}\n",
        "\n",
        "for geography_id in all_geography_parcels.keys():\n",
        "    total_parcels = len(all_geography_parcels.get(geography_id, []))\n",
        "    linked_parcels = len(parcels_linked_to_claimed_accounts_by_geography.get(geography_id, []))\n",
        "\n",
        "    if total_parcels > 0:\n",
        "        percentage = (linked_parcels / total_parcels) * 100\n",
        "    else:\n",
        "        percentage = 0.0\n",
        "\n",
        "    percentage_parcels_linked_to_claimed_accounts_by_geography[geography_id] = percentage\n",
        "\n",
        "print(\"Percentage calculation for parcels linked to claimed accounts for each geography is complete.\")"
      ],
      "execution_count": 63,
      "outputs": [
        {
          "output_type": "stream",
          "name": "stdout",
          "text": [
            "Percentage calculation for parcels linked to claimed accounts for each geography is complete.\n"
          ]
        }
      ]
    },
    {
      "cell_type": "markdown",
      "metadata": {
        "id": "21de640c"
      },
      "source": [
        "## Calculate overall percentage\n",
        "\n",
        "### Subtask:\n",
        "Calculate the overall percentage of parcels linked to claimed accounts across all geographies.\n"
      ]
    },
    {
      "cell_type": "markdown",
      "metadata": {
        "id": "a847a352"
      },
      "source": [
        "**Reasoning**:\n",
        "Calculate the overall percentage of parcels linked to claimed accounts across all geographies by summing the total parcels and linked parcels from all geographies and then computing the percentage.\n",
        "\n"
      ]
    },
    {
      "cell_type": "code",
      "metadata": {
        "colab": {
          "base_uri": "https://localhost:8080/"
        },
        "id": "a25105c2",
        "outputId": "00db6aff-63be-40e6-fd97-957749041103"
      },
      "source": [
        "total_all_parcels = 0\n",
        "for parcels_list in all_geography_parcels.values():\n",
        "    total_all_parcels += len(parcels_list)\n",
        "\n",
        "total_parcels_linked_to_claimed_accounts = 0\n",
        "for linked_parcels_list in parcels_linked_to_claimed_accounts_by_geography.values():\n",
        "    total_parcels_linked_to_claimed_accounts += len(linked_parcels_list)\n",
        "\n",
        "if total_all_parcels > 0:\n",
        "    overall_percentage_parcels_linked_to_claimed_accounts = (total_parcels_linked_to_claimed_accounts / total_all_parcels) * 100\n",
        "else:\n",
        "    overall_percentage_parcels_linked_to_claimed_accounts = 0.0\n",
        "\n",
        "print(f\"Overall percentage of parcels linked to claimed accounts: {overall_percentage_parcels_linked_to_claimed_accounts:.2f}%\")"
      ],
      "execution_count": 64,
      "outputs": [
        {
          "output_type": "stream",
          "name": "stdout",
          "text": [
            "Overall percentage of parcels linked to claimed accounts: 3.10%\n"
          ]
        }
      ]
    },
    {
      "cell_type": "markdown",
      "metadata": {
        "id": "108911a7"
      },
      "source": [
        "## Present results\n",
        "\n",
        "### Subtask:\n",
        "Display the calculated percentages for each geography and the overall percentage.\n"
      ]
    },
    {
      "cell_type": "markdown",
      "metadata": {
        "id": "d5e75af9"
      },
      "source": [
        "**Reasoning**:\n",
        "Display the calculated percentages for each geography and the overall percentage as requested by the subtask instructions.\n",
        "\n"
      ]
    },
    {
      "cell_type": "code",
      "metadata": {
        "colab": {
          "base_uri": "https://localhost:8080/"
        },
        "id": "bc57317f",
        "outputId": "26cf34ee-b998-454c-9b65-479b9f5b018c"
      },
      "source": [
        "print(\"Percentage of parcels linked to claimed accounts by Geography:\")\n",
        "for geography_id, percentage in percentage_parcels_linked_to_claimed_accounts_by_geography.items():\n",
        "    print(f\"Geography ID {geography_id}: {percentage:.2f}%\")\n",
        "\n",
        "print(\"\\nOverall Percentage of parcels linked to claimed accounts:\")\n",
        "print(f\"{overall_percentage_parcels_linked_to_claimed_accounts:.2f}%\")"
      ],
      "execution_count": 65,
      "outputs": [
        {
          "output_type": "stream",
          "name": "stdout",
          "text": [
            "Percentage of parcels linked to claimed accounts by Geography:\n",
            "Geography ID 1: 2.31%\n",
            "Geography ID 2: 0.00%\n",
            "Geography ID 3: 0.00%\n",
            "Geography ID 4: 0.00%\n",
            "Geography ID 5: 34.92%\n",
            "Geography ID 6: 36.01%\n",
            "Geography ID 7: 34.92%\n",
            "Geography ID 8: 0.03%\n",
            "Geography ID 9: 1.21%\n",
            "Geography ID 10: 1.74%\n",
            "\n",
            "Overall Percentage of parcels linked to claimed accounts:\n",
            "3.10%\n"
          ]
        }
      ]
    },
    {
      "cell_type": "markdown",
      "metadata": {
        "id": "904a1986"
      },
      "source": [
        "## Summary:\n",
        "\n",
        "### Data Analysis Key Findings\n",
        "\n",
        "*   The overall percentage of parcels linked to claimed water accounts across all geographies is 3.10%.\n",
        "*   The percentage of parcels linked to claimed accounts varies by geography, as shown in the presented results.\n",
        "\n",
        "### Insights or Next Steps\n",
        "\n",
        "*   Further analysis could investigate the factors contributing to the variation in claimed water account percentages across different geographies.\n",
        "*   Explore if there are any correlations between the percentage of claimed water accounts and other geographical or socioeconomic data.\n"
      ]
    }
  ]
}